{
 "cells": [
  {
   "cell_type": "code",
   "id": "initial_id",
   "metadata": {
    "collapsed": true,
    "ExecuteTime": {
     "end_time": "2024-10-28T10:13:28.223316Z",
     "start_time": "2024-10-28T10:13:28.218817Z"
    }
   },
   "source": [
    "import nltk\n",
    "import numpy as np\n",
    "\n",
    "from sklearn.model_selection import train_test_split\n",
    "\n",
    "import tensorflow as tf\n",
    "from tensorflow.keras.layers import Embedding, Dense, Lambda\n",
    "from tensorflow.keras.preprocessing.text import Tokenizer\n",
    "from tensorflow.keras.models import Sequential"
   ],
   "outputs": [],
   "execution_count": 24
  },
  {
   "metadata": {
    "ExecuteTime": {
     "end_time": "2024-10-28T09:23:33.267839Z",
     "start_time": "2024-10-28T09:23:33.237132Z"
    }
   },
   "cell_type": "code",
   "source": [
    "# Setup nltk\n",
    "nltk.download('punkt')"
   ],
   "id": "548cec5913782c64",
   "outputs": [
    {
     "name": "stderr",
     "output_type": "stream",
     "text": [
      "[nltk_data] Downloading package punkt to\n",
      "[nltk_data]     C:\\Users\\rupes\\AppData\\Roaming\\nltk_data...\n",
      "[nltk_data]   Package punkt is already up-to-date!\n"
     ]
    },
    {
     "data": {
      "text/plain": [
       "True"
      ]
     },
     "execution_count": 4,
     "metadata": {},
     "output_type": "execute_result"
    }
   ],
   "execution_count": 4
  },
  {
   "metadata": {
    "ExecuteTime": {
     "end_time": "2024-10-28T09:25:34.052086Z",
     "start_time": "2024-10-28T09:25:34.047133Z"
    }
   },
   "cell_type": "code",
   "source": "text = 'Deep learning is a subset of machine learning that focuses on utilizing neural networks to perform tasks such as classification, regression, and representation learning. The field takes inspiration from biological neuroscience and is centered around stacking artificial neurons into layers and \"training\" them to process data. The adjective \"deep\" refers to the use of multiple layers (ranging from three to several hundred or thousands) in the network. Methods used can be either supervised, semi-supervised or unsupervised. Some common deep learning network architectures include fully connected networks, deep belief networks, recurrent neural networks, convolutional neural networks, generative adversarial networks, transformers, and neural radiance fields. These architectures have been applied to fields including computer vision, speech recognition, natural language processing, machine translation, bioinformatics, drug design, medical image analysis, climate science, material inspection and board gamef programs, where they have produced results comparable to and in some cases surpassing human expert performance. Early forms of neural networks were inspired by information processing and distributed communication nodes in biological systems, particularly the human brain. However, current neural networks do not intend to model the brain function of organisms, and are generally seen as low-quality models for that purpose.'",
   "id": "26ab454bf1af7197",
   "outputs": [],
   "execution_count": 5
  },
  {
   "metadata": {},
   "cell_type": "markdown",
   "source": "## Preprocessing text",
   "id": "50aa080c1ed8e7c8"
  },
  {
   "metadata": {
    "ExecuteTime": {
     "end_time": "2024-10-28T09:32:17.090637Z",
     "start_time": "2024-10-28T09:32:17.086128Z"
    }
   },
   "cell_type": "code",
   "source": [
    "# Splitting the text into sentences\n",
    "\n",
    "sentences = text.split('.')\n",
    "sentences = [sentence.lower() for sentence in sentences]\n",
    "sentences"
   ],
   "id": "6105e97061dba42e",
   "outputs": [
    {
     "data": {
      "text/plain": [
       "['deep learning is a subset of machine learning that focuses on utilizing neural networks to perform tasks such as classification, regression, and representation learning',\n",
       " ' the field takes inspiration from biological neuroscience and is centered around stacking artificial neurons into layers and \"training\" them to process data',\n",
       " ' the adjective \"deep\" refers to the use of multiple layers (ranging from three to several hundred or thousands) in the network',\n",
       " ' methods used can be either supervised, semi-supervised or unsupervised',\n",
       " ' some common deep learning network architectures include fully connected networks, deep belief networks, recurrent neural networks, convolutional neural networks, generative adversarial networks, transformers, and neural radiance fields',\n",
       " ' these architectures have been applied to fields including computer vision, speech recognition, natural language processing, machine translation, bioinformatics, drug design, medical image analysis, climate science, material inspection and board game programs, where they have produced results comparable to and in some cases surpassing human expert performance',\n",
       " ' early forms of neural networks were inspired by information processing and distributed communication nodes in biological systems, particularly the human brain',\n",
       " ' however, current neural networks do not intend to model the brain function of organisms, and are generally seen as low-quality models for that purpose',\n",
       " '']"
      ]
     },
     "execution_count": 11,
     "metadata": {},
     "output_type": "execute_result"
    }
   ],
   "execution_count": 11
  },
  {
   "metadata": {
    "ExecuteTime": {
     "end_time": "2024-10-28T09:32:27.917445Z",
     "start_time": "2024-10-28T09:32:27.911530Z"
    }
   },
   "cell_type": "code",
   "source": [
    "# Tokenizing the sentences\n",
    "\n",
    "tokenizer = Tokenizer()\n",
    "tokenizer.fit_on_texts(sentences)\n",
    "sequences = tokenizer.texts_to_sequences(sentences)\n",
    "print(sequences)"
   ],
   "id": "848d7892c8dfcf0d",
   "outputs": [
    {
     "name": "stdout",
     "output_type": "stream",
     "text": [
      "[[6, 7, 10, 27, 28, 8, 11, 7, 12, 29, 30, 31, 4, 1, 3, 32, 33, 34, 13, 35, 36, 2, 37, 7], [5, 38, 39, 40, 14, 15, 41, 2, 10, 42, 43, 44, 45, 46, 47, 16, 2, 48, 49, 3, 50, 51], [5, 52, 6, 53, 3, 5, 54, 8, 55, 16, 56, 14, 57, 3, 58, 59, 17, 60, 9, 5, 18], [61, 62, 63, 64, 65, 19, 66, 19, 17, 67], [20, 68, 6, 7, 18, 21, 69, 70, 71, 1, 6, 72, 1, 73, 4, 1, 74, 4, 1, 75, 76, 1, 77, 2, 4, 78, 22], [79, 21, 23, 80, 81, 3, 22, 82, 83, 84, 85, 86, 87, 88, 24, 11, 89, 90, 91, 92, 93, 94, 95, 96, 97, 98, 99, 2, 100, 101, 102, 103, 104, 23, 105, 106, 107, 3, 2, 9, 20, 108, 109, 25, 110, 111], [112, 113, 8, 4, 1, 114, 115, 116, 117, 24, 2, 118, 119, 120, 9, 15, 121, 122, 5, 25, 26], [123, 124, 4, 1, 125, 126, 127, 3, 128, 5, 26, 129, 8, 130, 2, 131, 132, 133, 13, 134, 135, 136, 137, 12, 138], []]\n"
     ]
    }
   ],
   "execution_count": 12
  },
  {
   "metadata": {
    "ExecuteTime": {
     "end_time": "2024-10-28T10:02:29.422275Z",
     "start_time": "2024-10-28T10:02:29.418282Z"
    }
   },
   "cell_type": "code",
   "source": [
    "idx2word = tokenizer.index_word\n",
    "word2idx = tokenizer.word_index\n",
    "\n",
    "print(idx2word, '\\n')\n",
    "print(word2idx)"
   ],
   "id": "ef2f29f9ff7bc270",
   "outputs": [
    {
     "name": "stdout",
     "output_type": "stream",
     "text": [
      "{1: 'networks', 2: 'and', 3: 'to', 4: 'neural', 5: 'the', 6: 'deep', 7: 'learning', 8: 'of', 9: 'in', 10: 'is', 11: 'machine', 12: 'that', 13: 'as', 14: 'from', 15: 'biological', 16: 'layers', 17: 'or', 18: 'network', 19: 'supervised', 20: 'some', 21: 'architectures', 22: 'fields', 23: 'have', 24: 'processing', 25: 'human', 26: 'brain', 27: 'a', 28: 'subset', 29: 'focuses', 30: 'on', 31: 'utilizing', 32: 'perform', 33: 'tasks', 34: 'such', 35: 'classification', 36: 'regression', 37: 'representation', 38: 'field', 39: 'takes', 40: 'inspiration', 41: 'neuroscience', 42: 'centered', 43: 'around', 44: 'stacking', 45: 'artificial', 46: 'neurons', 47: 'into', 48: 'training', 49: 'them', 50: 'process', 51: 'data', 52: 'adjective', 53: 'refers', 54: 'use', 55: 'multiple', 56: 'ranging', 57: 'three', 58: 'several', 59: 'hundred', 60: 'thousands', 61: 'methods', 62: 'used', 63: 'can', 64: 'be', 65: 'either', 66: 'semi', 67: 'unsupervised', 68: 'common', 69: 'include', 70: 'fully', 71: 'connected', 72: 'belief', 73: 'recurrent', 74: 'convolutional', 75: 'generative', 76: 'adversarial', 77: 'transformers', 78: 'radiance', 79: 'these', 80: 'been', 81: 'applied', 82: 'including', 83: 'computer', 84: 'vision', 85: 'speech', 86: 'recognition', 87: 'natural', 88: 'language', 89: 'translation', 90: 'bioinformatics', 91: 'drug', 92: 'design', 93: 'medical', 94: 'image', 95: 'analysis', 96: 'climate', 97: 'science', 98: 'material', 99: 'inspection', 100: 'board', 101: 'game', 102: 'programs', 103: 'where', 104: 'they', 105: 'produced', 106: 'results', 107: 'comparable', 108: 'cases', 109: 'surpassing', 110: 'expert', 111: 'performance', 112: 'early', 113: 'forms', 114: 'were', 115: 'inspired', 116: 'by', 117: 'information', 118: 'distributed', 119: 'communication', 120: 'nodes', 121: 'systems', 122: 'particularly', 123: 'however', 124: 'current', 125: 'do', 126: 'not', 127: 'intend', 128: 'model', 129: 'function', 130: 'organisms', 131: 'are', 132: 'generally', 133: 'seen', 134: 'low', 135: 'quality', 136: 'models', 137: 'for', 138: 'purpose'} \n",
      "\n",
      "{'networks': 1, 'and': 2, 'to': 3, 'neural': 4, 'the': 5, 'deep': 6, 'learning': 7, 'of': 8, 'in': 9, 'is': 10, 'machine': 11, 'that': 12, 'as': 13, 'from': 14, 'biological': 15, 'layers': 16, 'or': 17, 'network': 18, 'supervised': 19, 'some': 20, 'architectures': 21, 'fields': 22, 'have': 23, 'processing': 24, 'human': 25, 'brain': 26, 'a': 27, 'subset': 28, 'focuses': 29, 'on': 30, 'utilizing': 31, 'perform': 32, 'tasks': 33, 'such': 34, 'classification': 35, 'regression': 36, 'representation': 37, 'field': 38, 'takes': 39, 'inspiration': 40, 'neuroscience': 41, 'centered': 42, 'around': 43, 'stacking': 44, 'artificial': 45, 'neurons': 46, 'into': 47, 'training': 48, 'them': 49, 'process': 50, 'data': 51, 'adjective': 52, 'refers': 53, 'use': 54, 'multiple': 55, 'ranging': 56, 'three': 57, 'several': 58, 'hundred': 59, 'thousands': 60, 'methods': 61, 'used': 62, 'can': 63, 'be': 64, 'either': 65, 'semi': 66, 'unsupervised': 67, 'common': 68, 'include': 69, 'fully': 70, 'connected': 71, 'belief': 72, 'recurrent': 73, 'convolutional': 74, 'generative': 75, 'adversarial': 76, 'transformers': 77, 'radiance': 78, 'these': 79, 'been': 80, 'applied': 81, 'including': 82, 'computer': 83, 'vision': 84, 'speech': 85, 'recognition': 86, 'natural': 87, 'language': 88, 'translation': 89, 'bioinformatics': 90, 'drug': 91, 'design': 92, 'medical': 93, 'image': 94, 'analysis': 95, 'climate': 96, 'science': 97, 'material': 98, 'inspection': 99, 'board': 100, 'game': 101, 'programs': 102, 'where': 103, 'they': 104, 'produced': 105, 'results': 106, 'comparable': 107, 'cases': 108, 'surpassing': 109, 'expert': 110, 'performance': 111, 'early': 112, 'forms': 113, 'were': 114, 'inspired': 115, 'by': 116, 'information': 117, 'distributed': 118, 'communication': 119, 'nodes': 120, 'systems': 121, 'particularly': 122, 'however': 123, 'current': 124, 'do': 125, 'not': 126, 'intend': 127, 'model': 128, 'function': 129, 'organisms': 130, 'are': 131, 'generally': 132, 'seen': 133, 'low': 134, 'quality': 135, 'models': 136, 'for': 137, 'purpose': 138}\n"
     ]
    }
   ],
   "execution_count": 16
  },
  {
   "metadata": {},
   "cell_type": "markdown",
   "source": "## Creating contexts and targets",
   "id": "b1bc581431bf6da3"
  },
  {
   "metadata": {
    "ExecuteTime": {
     "end_time": "2024-10-28T10:29:26.964063Z",
     "start_time": "2024-10-28T10:29:26.957956Z"
    }
   },
   "cell_type": "code",
   "source": [
    "vocab_size = len(tokenizer.word_index) + 1\n",
    "emb_size = 100\n",
    "context_size = 2\n",
    "\n",
    "contexts = []\n",
    "targets = []\n",
    "\n",
    "for sequence in sequences:\n",
    "    for i in range(context_size, len(sequence) - context_size):\n",
    "        target = sequence[i]\n",
    "        context = [sequence[i - 2], sequence[i - 1], sequence[i + 1], sequence[i + 2]]\n",
    "        contexts.append(context)\n",
    "        targets.append(target)\n",
    "\n",
    "print(contexts, \"\\n\")\n",
    "print(targets)"
   ],
   "id": "a005a04b18db86e1",
   "outputs": [
    {
     "name": "stdout",
     "output_type": "stream",
     "text": [
      "[[6, 7, 27, 28], [7, 10, 28, 8], [10, 27, 8, 11], [27, 28, 11, 7], [28, 8, 7, 12], [8, 11, 12, 29], [11, 7, 29, 30], [7, 12, 30, 31], [12, 29, 31, 4], [29, 30, 4, 1], [30, 31, 1, 3], [31, 4, 3, 32], [4, 1, 32, 33], [1, 3, 33, 34], [3, 32, 34, 13], [32, 33, 13, 35], [33, 34, 35, 36], [34, 13, 36, 2], [13, 35, 2, 37], [35, 36, 37, 7], [5, 38, 40, 14], [38, 39, 14, 15], [39, 40, 15, 41], [40, 14, 41, 2], [14, 15, 2, 10], [15, 41, 10, 42], [41, 2, 42, 43], [2, 10, 43, 44], [10, 42, 44, 45], [42, 43, 45, 46], [43, 44, 46, 47], [44, 45, 47, 16], [45, 46, 16, 2], [46, 47, 2, 48], [47, 16, 48, 49], [16, 2, 49, 3], [2, 48, 3, 50], [48, 49, 50, 51], [5, 52, 53, 3], [52, 6, 3, 5], [6, 53, 5, 54], [53, 3, 54, 8], [3, 5, 8, 55], [5, 54, 55, 16], [54, 8, 16, 56], [8, 55, 56, 14], [55, 16, 14, 57], [16, 56, 57, 3], [56, 14, 3, 58], [14, 57, 58, 59], [57, 3, 59, 17], [3, 58, 17, 60], [58, 59, 60, 9], [59, 17, 9, 5], [17, 60, 5, 18], [61, 62, 64, 65], [62, 63, 65, 19], [63, 64, 19, 66], [64, 65, 66, 19], [65, 19, 19, 17], [19, 66, 17, 67], [20, 68, 7, 18], [68, 6, 18, 21], [6, 7, 21, 69], [7, 18, 69, 70], [18, 21, 70, 71], [21, 69, 71, 1], [69, 70, 1, 6], [70, 71, 6, 72], [71, 1, 72, 1], [1, 6, 1, 73], [6, 72, 73, 4], [72, 1, 4, 1], [1, 73, 1, 74], [73, 4, 74, 4], [4, 1, 4, 1], [1, 74, 1, 75], [74, 4, 75, 76], [4, 1, 76, 1], [1, 75, 1, 77], [75, 76, 77, 2], [76, 1, 2, 4], [1, 77, 4, 78], [77, 2, 78, 22], [79, 21, 80, 81], [21, 23, 81, 3], [23, 80, 3, 22], [80, 81, 22, 82], [81, 3, 82, 83], [3, 22, 83, 84], [22, 82, 84, 85], [82, 83, 85, 86], [83, 84, 86, 87], [84, 85, 87, 88], [85, 86, 88, 24], [86, 87, 24, 11], [87, 88, 11, 89], [88, 24, 89, 90], [24, 11, 90, 91], [11, 89, 91, 92], [89, 90, 92, 93], [90, 91, 93, 94], [91, 92, 94, 95], [92, 93, 95, 96], [93, 94, 96, 97], [94, 95, 97, 98], [95, 96, 98, 99], [96, 97, 99, 2], [97, 98, 2, 100], [98, 99, 100, 101], [99, 2, 101, 102], [2, 100, 102, 103], [100, 101, 103, 104], [101, 102, 104, 23], [102, 103, 23, 105], [103, 104, 105, 106], [104, 23, 106, 107], [23, 105, 107, 3], [105, 106, 3, 2], [106, 107, 2, 9], [107, 3, 9, 20], [3, 2, 20, 108], [2, 9, 108, 109], [9, 20, 109, 25], [20, 108, 25, 110], [108, 109, 110, 111], [112, 113, 4, 1], [113, 8, 1, 114], [8, 4, 114, 115], [4, 1, 115, 116], [1, 114, 116, 117], [114, 115, 117, 24], [115, 116, 24, 2], [116, 117, 2, 118], [117, 24, 118, 119], [24, 2, 119, 120], [2, 118, 120, 9], [118, 119, 9, 15], [119, 120, 15, 121], [120, 9, 121, 122], [9, 15, 122, 5], [15, 121, 5, 25], [121, 122, 25, 26], [123, 124, 1, 125], [124, 4, 125, 126], [4, 1, 126, 127], [1, 125, 127, 3], [125, 126, 3, 128], [126, 127, 128, 5], [127, 3, 5, 26], [3, 128, 26, 129], [128, 5, 129, 8], [5, 26, 8, 130], [26, 129, 130, 2], [129, 8, 2, 131], [8, 130, 131, 132], [130, 2, 132, 133], [2, 131, 133, 13], [131, 132, 13, 134], [132, 133, 134, 135], [133, 13, 135, 136], [13, 134, 136, 137], [134, 135, 137, 12], [135, 136, 12, 138]] \n",
      "\n",
      "[10, 27, 28, 8, 11, 7, 12, 29, 30, 31, 4, 1, 3, 32, 33, 34, 13, 35, 36, 2, 39, 40, 14, 15, 41, 2, 10, 42, 43, 44, 45, 46, 47, 16, 2, 48, 49, 3, 6, 53, 3, 5, 54, 8, 55, 16, 56, 14, 57, 3, 58, 59, 17, 60, 9, 63, 64, 65, 19, 66, 19, 6, 7, 18, 21, 69, 70, 71, 1, 6, 72, 1, 73, 4, 1, 74, 4, 1, 75, 76, 1, 77, 2, 4, 23, 80, 81, 3, 22, 82, 83, 84, 85, 86, 87, 88, 24, 11, 89, 90, 91, 92, 93, 94, 95, 96, 97, 98, 99, 2, 100, 101, 102, 103, 104, 23, 105, 106, 107, 3, 2, 9, 20, 108, 109, 25, 8, 4, 1, 114, 115, 116, 117, 24, 2, 118, 119, 120, 9, 15, 121, 122, 5, 4, 1, 125, 126, 127, 3, 128, 5, 26, 129, 8, 130, 2, 131, 132, 133, 13, 134, 135, 136, 137]\n"
     ]
    }
   ],
   "execution_count": 48
  },
  {
   "metadata": {
    "ExecuteTime": {
     "end_time": "2024-10-28T10:29:29.205432Z",
     "start_time": "2024-10-28T10:29:29.201850Z"
    }
   },
   "cell_type": "code",
   "source": [
    "# Printing features with target\n",
    "for i in range(5):\n",
    "    words = []\n",
    "    target = idx2word.get(targets[i])\n",
    "    for j in contexts[i]:\n",
    "        words.append(idx2word.get(j))\n",
    "    print(words,\" -> \", target)"
   ],
   "id": "e622cf0dbf35c823",
   "outputs": [
    {
     "name": "stdout",
     "output_type": "stream",
     "text": [
      "['deep', 'learning', 'a', 'subset']  ->  is\n",
      "['learning', 'is', 'subset', 'of']  ->  a\n",
      "['is', 'a', 'of', 'machine']  ->  subset\n",
      "['a', 'subset', 'machine', 'learning']  ->  of\n",
      "['subset', 'of', 'learning', 'that']  ->  machine\n"
     ]
    }
   ],
   "execution_count": 49
  },
  {
   "metadata": {},
   "cell_type": "markdown",
   "source": "## Creating training and testing data",
   "id": "210a30259386ae3f"
  },
  {
   "metadata": {
    "ExecuteTime": {
     "end_time": "2024-10-28T10:29:30.876915Z",
     "start_time": "2024-10-28T10:29:30.872920Z"
    }
   },
   "cell_type": "code",
   "source": [
    "X = np.array(contexts)\n",
    "y = np.array(targets)"
   ],
   "id": "7bcd6c24b63700a7",
   "outputs": [],
   "execution_count": 50
  },
  {
   "metadata": {
    "ExecuteTime": {
     "end_time": "2024-10-28T10:29:31.084711Z",
     "start_time": "2024-10-28T10:29:31.078882Z"
    }
   },
   "cell_type": "code",
   "source": "X_train, X_test, y_train, y_test = train_test_split(X, y, test_size=0.25, random_state=42)",
   "id": "35d32ac0a40e7ecc",
   "outputs": [],
   "execution_count": 51
  },
  {
   "metadata": {},
   "cell_type": "markdown",
   "source": "## Defining model",
   "id": "4fc63d046c476780"
  },
  {
   "metadata": {
    "ExecuteTime": {
     "end_time": "2024-10-28T10:31:40.116762Z",
     "start_time": "2024-10-28T10:31:40.060765Z"
    }
   },
   "cell_type": "code",
   "source": [
    "model = Sequential([\n",
    "    Embedding(input_dim=vocab_size, output_dim=emb_size, input_length=2 * context_size),\n",
    "    Lambda(lambda x: tf.reduce_mean(x, axis=1)),\n",
    "    Dense(256, activation='relu'),\n",
    "    Dense(512, activation='relu'),\n",
    "    Dense(vocab_size, activation='softmax')\n",
    "])"
   ],
   "id": "4866e8a680bef938",
   "outputs": [],
   "execution_count": 68
  },
  {
   "metadata": {
    "ExecuteTime": {
     "end_time": "2024-10-28T10:31:40.393663Z",
     "start_time": "2024-10-28T10:31:40.384201Z"
    }
   },
   "cell_type": "code",
   "source": "model.compile(optimizer='adam', loss='sparse_categorical_crossentropy', metrics=['accuracy'])",
   "id": "fc060d3727c5a36",
   "outputs": [],
   "execution_count": 69
  },
  {
   "metadata": {
    "ExecuteTime": {
     "end_time": "2024-10-28T10:31:44.530832Z",
     "start_time": "2024-10-28T10:31:40.858226Z"
    }
   },
   "cell_type": "code",
   "source": "history = model.fit(X_train, y_train, validation_data=(X_test, y_test), epochs=50)",
   "id": "d02c3e340bbe5167",
   "outputs": [
    {
     "name": "stdout",
     "output_type": "stream",
     "text": [
      "Epoch 1/50\n",
      "4/4 [==============================] - 1s 56ms/step - loss: 4.9347 - accuracy: 0.0325 - val_loss: 4.9375 - val_accuracy: 0.0488\n",
      "Epoch 2/50\n",
      "4/4 [==============================] - 0s 14ms/step - loss: 4.9105 - accuracy: 0.1138 - val_loss: 4.9439 - val_accuracy: 0.0000e+00\n",
      "Epoch 3/50\n",
      "4/4 [==============================] - 0s 16ms/step - loss: 4.8827 - accuracy: 0.0894 - val_loss: 4.9546 - val_accuracy: 0.0000e+00\n",
      "Epoch 4/50\n",
      "4/4 [==============================] - 0s 32ms/step - loss: 4.8353 - accuracy: 0.0894 - val_loss: 4.9759 - val_accuracy: 0.0000e+00\n",
      "Epoch 5/50\n",
      "4/4 [==============================] - 0s 18ms/step - loss: 4.7614 - accuracy: 0.0813 - val_loss: 5.0208 - val_accuracy: 0.0000e+00\n",
      "Epoch 6/50\n",
      "4/4 [==============================] - 0s 17ms/step - loss: 4.6359 - accuracy: 0.0732 - val_loss: 5.1174 - val_accuracy: 0.0000e+00\n",
      "Epoch 7/50\n",
      "4/4 [==============================] - 0s 16ms/step - loss: 4.4671 - accuracy: 0.0732 - val_loss: 5.3324 - val_accuracy: 0.0000e+00\n",
      "Epoch 8/50\n",
      "4/4 [==============================] - 0s 15ms/step - loss: 4.2722 - accuracy: 0.0732 - val_loss: 5.7765 - val_accuracy: 0.0000e+00\n",
      "Epoch 9/50\n",
      "4/4 [==============================] - 0s 17ms/step - loss: 4.1175 - accuracy: 0.0732 - val_loss: 6.3186 - val_accuracy: 0.0000e+00\n",
      "Epoch 10/50\n",
      "4/4 [==============================] - 0s 16ms/step - loss: 4.0079 - accuracy: 0.0813 - val_loss: 6.5436 - val_accuracy: 0.0000e+00\n",
      "Epoch 11/50\n",
      "4/4 [==============================] - 0s 17ms/step - loss: 3.8807 - accuracy: 0.1545 - val_loss: 6.6190 - val_accuracy: 0.0000e+00\n",
      "Epoch 12/50\n",
      "4/4 [==============================] - 0s 16ms/step - loss: 3.7578 - accuracy: 0.1707 - val_loss: 6.7398 - val_accuracy: 0.0000e+00\n",
      "Epoch 13/50\n",
      "4/4 [==============================] - 0s 16ms/step - loss: 3.6353 - accuracy: 0.2033 - val_loss: 6.8969 - val_accuracy: 0.0000e+00\n",
      "Epoch 14/50\n",
      "4/4 [==============================] - 0s 17ms/step - loss: 3.4953 - accuracy: 0.2114 - val_loss: 7.1712 - val_accuracy: 0.0000e+00\n",
      "Epoch 15/50\n",
      "4/4 [==============================] - 0s 16ms/step - loss: 3.3512 - accuracy: 0.2033 - val_loss: 7.5262 - val_accuracy: 0.0244\n",
      "Epoch 16/50\n",
      "4/4 [==============================] - 0s 15ms/step - loss: 3.1897 - accuracy: 0.2195 - val_loss: 7.8734 - val_accuracy: 0.0244\n",
      "Epoch 17/50\n",
      "4/4 [==============================] - 0s 17ms/step - loss: 3.0075 - accuracy: 0.2520 - val_loss: 8.2365 - val_accuracy: 0.0244\n",
      "Epoch 18/50\n",
      "4/4 [==============================] - 0s 19ms/step - loss: 2.8111 - accuracy: 0.3089 - val_loss: 8.6577 - val_accuracy: 0.0244\n",
      "Epoch 19/50\n",
      "4/4 [==============================] - 0s 17ms/step - loss: 2.5920 - accuracy: 0.3577 - val_loss: 9.1536 - val_accuracy: 0.0000e+00\n",
      "Epoch 20/50\n",
      "4/4 [==============================] - 0s 16ms/step - loss: 2.3565 - accuracy: 0.4472 - val_loss: 9.7768 - val_accuracy: 0.0000e+00\n",
      "Epoch 21/50\n",
      "4/4 [==============================] - 0s 18ms/step - loss: 2.0958 - accuracy: 0.5285 - val_loss: 10.5339 - val_accuracy: 0.0000e+00\n",
      "Epoch 22/50\n",
      "4/4 [==============================] - 0s 18ms/step - loss: 1.8298 - accuracy: 0.6260 - val_loss: 11.3806 - val_accuracy: 0.0000e+00\n",
      "Epoch 23/50\n",
      "4/4 [==============================] - 0s 17ms/step - loss: 1.5725 - accuracy: 0.7317 - val_loss: 12.2889 - val_accuracy: 0.0000e+00\n",
      "Epoch 24/50\n",
      "4/4 [==============================] - 0s 18ms/step - loss: 1.3295 - accuracy: 0.8293 - val_loss: 13.3235 - val_accuracy: 0.0000e+00\n",
      "Epoch 25/50\n",
      "4/4 [==============================] - 0s 15ms/step - loss: 1.0972 - accuracy: 0.9024 - val_loss: 14.4127 - val_accuracy: 0.0000e+00\n",
      "Epoch 26/50\n",
      "4/4 [==============================] - 0s 16ms/step - loss: 0.8941 - accuracy: 0.9593 - val_loss: 15.5114 - val_accuracy: 0.0000e+00\n",
      "Epoch 27/50\n",
      "4/4 [==============================] - 0s 14ms/step - loss: 0.7330 - accuracy: 0.9675 - val_loss: 16.5896 - val_accuracy: 0.0000e+00\n",
      "Epoch 28/50\n",
      "4/4 [==============================] - 0s 17ms/step - loss: 0.5870 - accuracy: 0.9756 - val_loss: 17.6286 - val_accuracy: 0.0000e+00\n",
      "Epoch 29/50\n",
      "4/4 [==============================] - 0s 17ms/step - loss: 0.4694 - accuracy: 0.9919 - val_loss: 18.6076 - val_accuracy: 0.0000e+00\n",
      "Epoch 30/50\n",
      "4/4 [==============================] - 0s 19ms/step - loss: 0.3727 - accuracy: 0.9919 - val_loss: 19.4654 - val_accuracy: 0.0000e+00\n",
      "Epoch 31/50\n",
      "4/4 [==============================] - 0s 15ms/step - loss: 0.3030 - accuracy: 0.9919 - val_loss: 20.2797 - val_accuracy: 0.0000e+00\n",
      "Epoch 32/50\n",
      "4/4 [==============================] - 0s 15ms/step - loss: 0.2435 - accuracy: 0.9919 - val_loss: 21.0802 - val_accuracy: 0.0000e+00\n",
      "Epoch 33/50\n",
      "4/4 [==============================] - 0s 18ms/step - loss: 0.2022 - accuracy: 0.9919 - val_loss: 21.7633 - val_accuracy: 0.0000e+00\n",
      "Epoch 34/50\n",
      "4/4 [==============================] - 0s 16ms/step - loss: 0.1666 - accuracy: 1.0000 - val_loss: 22.4110 - val_accuracy: 0.0000e+00\n",
      "Epoch 35/50\n",
      "4/4 [==============================] - 0s 17ms/step - loss: 0.1363 - accuracy: 1.0000 - val_loss: 22.9888 - val_accuracy: 0.0000e+00\n",
      "Epoch 36/50\n",
      "4/4 [==============================] - 0s 17ms/step - loss: 0.1162 - accuracy: 0.9919 - val_loss: 23.5000 - val_accuracy: 0.0000e+00\n",
      "Epoch 37/50\n",
      "4/4 [==============================] - 0s 15ms/step - loss: 0.0987 - accuracy: 1.0000 - val_loss: 24.0022 - val_accuracy: 0.0000e+00\n",
      "Epoch 38/50\n",
      "4/4 [==============================] - 0s 16ms/step - loss: 0.0847 - accuracy: 1.0000 - val_loss: 24.4263 - val_accuracy: 0.0000e+00\n",
      "Epoch 39/50\n",
      "4/4 [==============================] - 0s 17ms/step - loss: 0.0742 - accuracy: 1.0000 - val_loss: 24.8215 - val_accuracy: 0.0000e+00\n",
      "Epoch 40/50\n",
      "4/4 [==============================] - 0s 16ms/step - loss: 0.0641 - accuracy: 1.0000 - val_loss: 25.1914 - val_accuracy: 0.0000e+00\n",
      "Epoch 41/50\n",
      "4/4 [==============================] - 0s 19ms/step - loss: 0.0562 - accuracy: 1.0000 - val_loss: 25.5281 - val_accuracy: 0.0000e+00\n",
      "Epoch 42/50\n",
      "4/4 [==============================] - 0s 15ms/step - loss: 0.0492 - accuracy: 1.0000 - val_loss: 25.8191 - val_accuracy: 0.0000e+00\n",
      "Epoch 43/50\n",
      "4/4 [==============================] - 0s 16ms/step - loss: 0.0444 - accuracy: 1.0000 - val_loss: 26.0919 - val_accuracy: 0.0000e+00\n",
      "Epoch 44/50\n",
      "4/4 [==============================] - 0s 20ms/step - loss: 0.0400 - accuracy: 1.0000 - val_loss: 26.3653 - val_accuracy: 0.0000e+00\n",
      "Epoch 45/50\n",
      "4/4 [==============================] - 0s 19ms/step - loss: 0.0364 - accuracy: 1.0000 - val_loss: 26.6121 - val_accuracy: 0.0000e+00\n",
      "Epoch 46/50\n",
      "4/4 [==============================] - 0s 17ms/step - loss: 0.0327 - accuracy: 1.0000 - val_loss: 26.8623 - val_accuracy: 0.0000e+00\n",
      "Epoch 47/50\n",
      "4/4 [==============================] - 0s 16ms/step - loss: 0.0306 - accuracy: 1.0000 - val_loss: 27.1050 - val_accuracy: 0.0000e+00\n",
      "Epoch 48/50\n",
      "4/4 [==============================] - 0s 15ms/step - loss: 0.0282 - accuracy: 1.0000 - val_loss: 27.3123 - val_accuracy: 0.0000e+00\n",
      "Epoch 49/50\n",
      "4/4 [==============================] - 0s 17ms/step - loss: 0.0257 - accuracy: 1.0000 - val_loss: 27.5055 - val_accuracy: 0.0000e+00\n",
      "Epoch 50/50\n",
      "4/4 [==============================] - 0s 17ms/step - loss: 0.0240 - accuracy: 1.0000 - val_loss: 27.6892 - val_accuracy: 0.0000e+00\n"
     ]
    }
   ],
   "execution_count": 70
  },
  {
   "metadata": {},
   "cell_type": "markdown",
   "source": "## Making predictions",
   "id": "460090ae21016a87"
  },
  {
   "metadata": {
    "ExecuteTime": {
     "end_time": "2024-10-28T10:37:41.308361Z",
     "start_time": "2024-10-28T10:37:41.198998Z"
    }
   },
   "cell_type": "code",
   "source": [
    "test_words = []\n",
    "\n",
    "for idx in X_test[0]:\n",
    "    test_words.append(idx2word.get(idx))\n",
    "\n",
    "# Reshape X_test[0] to have a batch dimension\n",
    "input_data = np.expand_dims(X_test[0], axis=0)\n",
    "\n",
    "pred = model.predict(input_data)\n",
    "pred = np.argmax(pred[0])\n",
    "\n",
    "print(\"pred \", test_words, \"\\n=\", idx2word.get(pred), \"\\n\\n\")"
   ],
   "id": "ab13c9e20f7f7201",
   "outputs": [
    {
     "name": "stdout",
     "output_type": "stream",
     "text": [
      "1/1 [==============================] - 0s 63ms/step\n",
      "pred  ['processing', 'and', 'communication', 'nodes'] \n",
      "= in \n",
      "\n",
      "\n"
     ]
    }
   ],
   "execution_count": 76
  },
  {
   "metadata": {},
   "cell_type": "code",
   "outputs": [],
   "execution_count": null,
   "source": "",
   "id": "2d2bb2ce5fd2ec44"
  }
 ],
 "metadata": {
  "kernelspec": {
   "display_name": "Python 3",
   "language": "python",
   "name": "python3"
  },
  "language_info": {
   "codemirror_mode": {
    "name": "ipython",
    "version": 2
   },
   "file_extension": ".py",
   "mimetype": "text/x-python",
   "name": "python",
   "nbconvert_exporter": "python",
   "pygments_lexer": "ipython2",
   "version": "2.7.6"
  }
 },
 "nbformat": 4,
 "nbformat_minor": 5
}
