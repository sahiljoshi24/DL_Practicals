{
 "cells": [
  {
   "cell_type": "code",
   "id": "initial_id",
   "metadata": {
    "collapsed": true,
    "ExecuteTime": {
     "end_time": "2024-11-01T06:10:09.705762Z",
     "start_time": "2024-11-01T06:10:01.118571Z"
    }
   },
   "source": [
    "import tensorflow as tf\n",
    "from tensorflow.keras.models import Sequential\n",
    "from tensorflow.keras.layers import Dense, Dropout, Flatten, Input\n",
    "from tensorflow.keras.utils import to_categorical\n",
    "import numpy as np\n",
    "import matplotlib.pyplot as plt\n",
    "import random"
   ],
   "outputs": [
    {
     "name": "stdout",
     "output_type": "stream",
     "text": [
      "WARNING:tensorflow:From C:\\Users\\rupes\\AppData\\Roaming\\Python\\Python311\\site-packages\\keras\\src\\losses.py:2976: The name tf.losses.sparse_softmax_cross_entropy is deprecated. Please use tf.compat.v1.losses.sparse_softmax_cross_entropy instead.\n",
      "\n"
     ]
    }
   ],
   "execution_count": 1
  },
  {
   "metadata": {},
   "cell_type": "markdown",
   "source": "## Loading dataset",
   "id": "93e26fe4af7b0668"
  },
  {
   "metadata": {
    "ExecuteTime": {
     "end_time": "2024-11-01T06:10:09.713208Z",
     "start_time": "2024-11-01T06:10:09.708801Z"
    }
   },
   "cell_type": "code",
   "source": "dataset_name = 'mnist'",
   "id": "d8c6b017c8b0ffb0",
   "outputs": [],
   "execution_count": 2
  },
  {
   "metadata": {
    "ExecuteTime": {
     "end_time": "2024-11-01T06:10:11.466916Z",
     "start_time": "2024-11-01T06:10:11.222555Z"
    }
   },
   "cell_type": "code",
   "source": [
    "if dataset_name == 'mnist':\n",
    "\t(X_train, y_train), (X_test, y_test) = tf.keras.datasets.mnist.load_data()\n",
    "elif dataset_name == 'cifar10':\n",
    "\t(X_train, y_train), (X_test, y_test) = tf.keras.datasets.cifar10.load_data()"
   ],
   "id": "b9a6c164f43b3596",
   "outputs": [],
   "execution_count": 3
  },
  {
   "metadata": {},
   "cell_type": "markdown",
   "source": "## Preprocessing data",
   "id": "274ccc99e881d855"
  },
  {
   "metadata": {
    "ExecuteTime": {
     "end_time": "2024-11-01T06:10:19.362009Z",
     "start_time": "2024-11-01T06:10:19.093100Z"
    }
   },
   "cell_type": "code",
   "source": [
    "X_train = X_train / 255.0\n",
    "X_test = X_test / 255.0"
   ],
   "id": "6567eef9801fffb1",
   "outputs": [],
   "execution_count": 4
  },
  {
   "metadata": {},
   "cell_type": "markdown",
   "source": "## Exploring the data",
   "id": "18f26e3fc4257897"
  },
  {
   "metadata": {
    "ExecuteTime": {
     "end_time": "2024-11-01T06:10:42.446501Z",
     "start_time": "2024-11-01T06:10:42.345300Z"
    }
   },
   "cell_type": "code",
   "source": [
    "plt.imshow(random.choice(X_train))\n",
    "plt.show()"
   ],
   "id": "6a23069222dc0879",
   "outputs": [
    {
     "data": {
      "text/plain": [
       "<Figure size 640x480 with 1 Axes>"
      ],
      "image/png": "[encoded data removed]"
     },
     "metadata": {},
     "output_type": "display_data"
    }
   ],
   "execution_count": 9
  },
  {
   "metadata": {
    "ExecuteTime": {
     "end_time": "2024-11-01T06:10:51.805386Z",
     "start_time": "2024-11-01T06:10:51.796899Z"
    }
   },
   "cell_type": "code",
   "source": "X_train.shape, y_train.shape, X_test.shape, y_test.shape",
   "id": "17b96549148b3f66",
   "outputs": [
    {
     "data": {
      "text/plain": [
       "((60000, 28, 28), (60000,), (10000, 28, 28), (10000,))"
      ]
     },
     "execution_count": 10,
     "metadata": {},
     "output_type": "execute_result"
    }
   ],
   "execution_count": 10
  },
  {
   "metadata": {
    "ExecuteTime": {
     "end_time": "2024-11-01T06:11:06.846080Z",
     "start_time": "2024-11-01T06:11:06.837940Z"
    }
   },
   "cell_type": "code",
   "source": "y_train[:10]",
   "id": "d0ea3b86cd58a852",
   "outputs": [
    {
     "data": {
      "text/plain": [
       "array([5, 0, 4, 1, 9, 2, 1, 3, 1, 4], dtype=uint8)"
      ]
     },
     "execution_count": 11,
     "metadata": {},
     "output_type": "execute_result"
    }
   ],
   "execution_count": 11
  },
  {
   "metadata": {
    "ExecuteTime": {
     "end_time": "2024-11-01T06:11:23.765275Z",
     "start_time": "2024-11-01T06:11:23.756762Z"
    }
   },
   "cell_type": "code",
   "source": [
    "y_train = to_categorical(y_train)\n",
    "y_test = to_categorical(y_test)"
   ],
   "id": "6d40ff6874bb0235",
   "outputs": [],
   "execution_count": 12
  },
  {
   "metadata": {
    "ExecuteTime": {
     "end_time": "2024-11-01T06:11:30.647068Z",
     "start_time": "2024-11-01T06:11:30.637732Z"
    }
   },
   "cell_type": "code",
   "source": "y_train[:10]",
   "id": "ec8940c644904c8e",
   "outputs": [
    {
     "data": {
      "text/plain": [
       "array([[0., 0., 0., 0., 0., 1., 0., 0., 0., 0.],\n",
       "       [1., 0., 0., 0., 0., 0., 0., 0., 0., 0.],\n",
       "       [0., 0., 0., 0., 1., 0., 0., 0., 0., 0.],\n",
       "       [0., 1., 0., 0., 0., 0., 0., 0., 0., 0.],\n",
       "       [0., 0., 0., 0., 0., 0., 0., 0., 0., 1.],\n",
       "       [0., 0., 1., 0., 0., 0., 0., 0., 0., 0.],\n",
       "       [0., 1., 0., 0., 0., 0., 0., 0., 0., 0.],\n",
       "       [0., 0., 0., 1., 0., 0., 0., 0., 0., 0.],\n",
       "       [0., 1., 0., 0., 0., 0., 0., 0., 0., 0.],\n",
       "       [0., 0., 0., 0., 1., 0., 0., 0., 0., 0.]], dtype=float32)"
      ]
     },
     "execution_count": 13,
     "metadata": {},
     "output_type": "execute_result"
    }
   ],
   "execution_count": 13
  },
  {
   "metadata": {},
   "cell_type": "markdown",
   "source": "## Defining the network",
   "id": "722a6513efb7821d"
  },
  {
   "metadata": {
    "ExecuteTime": {
     "end_time": "2024-11-01T06:16:08.996683Z",
     "start_time": "2024-11-01T06:16:08.928151Z"
    }
   },
   "cell_type": "code",
   "source": [
    "model = Sequential([\n",
    "\tInput(shape=(X_train.shape[1], X_train.shape[2])),\n",
    "\tFlatten(),\n",
    "\tDense(128, activation='relu'),\n",
    "\tDropout(0.2),\n",
    "\tDense(64, activation='relu'),\n",
    "\tDropout(0.2),\n",
    "\tDense(10, activation='softmax')\n",
    "])"
   ],
   "id": "61c4ffa3abf04e6e",
   "outputs": [],
   "execution_count": 21
  },
  {
   "metadata": {},
   "cell_type": "markdown",
   "source": "## Training the model",
   "id": "3d2531b592c4b94c"
  },
  {
   "metadata": {
    "ExecuteTime": {
     "end_time": "2024-11-01T06:16:09.976020Z",
     "start_time": "2024-11-01T06:16:09.963943Z"
    }
   },
   "cell_type": "code",
   "source": "model.compile(optimizer='sgd', loss='categorical_crossentropy', metrics=['accuracy'])",
   "id": "7741b8d6b4b85d76",
   "outputs": [],
   "execution_count": 22
  },
  {
   "metadata": {
    "ExecuteTime": {
     "end_time": "2024-11-01T06:17:07.254271Z",
     "start_time": "2024-11-01T06:16:11.194911Z"
    }
   },
   "cell_type": "code",
   "source": "history = model.fit(X_train, y_train, epochs=10, validation_data=(X_test, y_test))",
   "id": "d854bca63fd9edca",
   "outputs": [
    {
     "name": "stdout",
     "output_type": "stream",
     "text": [
      "Epoch 1/10\n",
      "WARNING:tensorflow:From C:\\Users\\rupes\\AppData\\Roaming\\Python\\Python311\\site-packages\\keras\\src\\utils\\tf_utils.py:492: The name tf.ragged.RaggedTensorValue is deprecated. Please use tf.compat.v1.ragged.RaggedTensorValue instead.\n",
      "\n",
      "WARNING:tensorflow:From C:\\Users\\rupes\\AppData\\Roaming\\Python\\Python311\\site-packages\\keras\\src\\engine\\base_layer_utils.py:384: The name tf.executing_eagerly_outside_functions is deprecated. Please use tf.compat.v1.executing_eagerly_outside_functions instead.\n",
      "\n",
      "1875/1875 [==============================] - 7s 3ms/step - loss: 0.8285 - accuracy: 0.7517 - val_loss: 0.3354 - val_accuracy: 0.9059\n",
      "Epoch 2/10\n",
      "1875/1875 [==============================] - 5s 3ms/step - loss: 0.4086 - accuracy: 0.8796 - val_loss: 0.2524 - val_accuracy: 0.9262\n",
      "Epoch 3/10\n",
      "1875/1875 [==============================] - 5s 2ms/step - loss: 0.3312 - accuracy: 0.9027 - val_loss: 0.2136 - val_accuracy: 0.9376\n",
      "Epoch 4/10\n",
      "1875/1875 [==============================] - 5s 3ms/step - loss: 0.2849 - accuracy: 0.9161 - val_loss: 0.1871 - val_accuracy: 0.9435\n",
      "Epoch 5/10\n",
      "1875/1875 [==============================] - 5s 3ms/step - loss: 0.2531 - accuracy: 0.9257 - val_loss: 0.1671 - val_accuracy: 0.9502\n",
      "Epoch 6/10\n",
      "1875/1875 [==============================] - 5s 3ms/step - loss: 0.2301 - accuracy: 0.9323 - val_loss: 0.1520 - val_accuracy: 0.9542\n",
      "Epoch 7/10\n",
      "1875/1875 [==============================] - 6s 3ms/step - loss: 0.2114 - accuracy: 0.9378 - val_loss: 0.1409 - val_accuracy: 0.9568\n",
      "Epoch 8/10\n",
      "1875/1875 [==============================] - 5s 3ms/step - loss: 0.1959 - accuracy: 0.9431 - val_loss: 0.1328 - val_accuracy: 0.9595\n",
      "Epoch 9/10\n",
      "1875/1875 [==============================] - 6s 3ms/step - loss: 0.1846 - accuracy: 0.9463 - val_loss: 0.1257 - val_accuracy: 0.9617\n",
      "Epoch 10/10\n",
      "1875/1875 [==============================] - 7s 3ms/step - loss: 0.1730 - accuracy: 0.9496 - val_loss: 0.1203 - val_accuracy: 0.9632\n"
     ]
    }
   ],
   "execution_count": 23
  },
  {
   "metadata": {},
   "cell_type": "markdown",
   "source": "## Plotting loss and accuracy",
   "id": "fb59022e6ceed9d3"
  },
  {
   "metadata": {
    "ExecuteTime": {
     "end_time": "2024-11-01T06:17:11.436700Z",
     "start_time": "2024-11-01T06:17:11.290028Z"
    }
   },
   "cell_type": "code",
   "source": [
    "plt.plot(history.history['loss'], label='Training Loss')\n",
    "plt.plot(history.history['val_loss'], label='Validation Loss')\n",
    "plt.xlabel(\"Epochs\")\n",
    "plt.ylabel(\"Loss\")\n",
    "plt.legend()\n",
    "plt.show()"
   ],
   "id": "440075a32ea99dd6",
   "outputs": [
    {
     "data": {
      "text/plain": [
       "<Figure size 640x480 with 1 Axes>"
      ],
      "image/png": "[encoded data removed]"
     },
     "metadata": {},
     "output_type": "display_data"
    }
   ],
   "execution_count": 24
  },
  {
   "metadata": {
    "ExecuteTime": {
     "end_time": "2024-11-01T06:17:17.276913Z",
     "start_time": "2024-11-01T06:17:17.159872Z"
    }
   },
   "cell_type": "code",
   "source": [
    "plt.plot(history.history['accuracy'], label='Training Accuracy')\n",
    "plt.plot(history.history['val_accuracy'], label='Validation Accuracy')\n",
    "plt.xlabel(\"Epochs\")\n",
    "plt.ylabel(\"Accuracy\")\n",
    "plt.legend()\n",
    "plt.show()"
   ],
   "id": "33be6f1775fb5d4b",
   "outputs": [
    {
     "data": {
      "text/plain": [
       "<Figure size 640x480 with 1 Axes>"
      ],
      "image/png": "[encoded data removed]"
     },
     "metadata": {},
     "output_type": "display_data"
    }
   ],
   "execution_count": 25
  },
  {
   "metadata": {
    "ExecuteTime": {
     "end_time": "2024-11-01T06:17:57.583023Z",
     "start_time": "2024-11-01T06:17:56.690263Z"
    }
   },
   "cell_type": "code",
   "source": "loss, accuracy = model.evaluate(X_test, y_test)",
   "id": "e15401a7fec25cc0",
   "outputs": [
    {
     "name": "stdout",
     "output_type": "stream",
     "text": [
      "313/313 [==============================] - 1s 2ms/step - loss: 0.1203 - accuracy: 0.9632\n"
     ]
    }
   ],
   "execution_count": 26
  },
  {
   "metadata": {},
   "cell_type": "markdown",
   "source": "## Predicitons",
   "id": "386abac9a2c9dce5"
  },
  {
   "metadata": {
    "ExecuteTime": {
     "end_time": "2024-11-01T06:18:01.913290Z",
     "start_time": "2024-11-01T06:18:00.808649Z"
    }
   },
   "cell_type": "code",
   "source": "y_preds = model.predict(X_test)",
   "id": "80168afb75d872e4",
   "outputs": [
    {
     "name": "stdout",
     "output_type": "stream",
     "text": [
      "313/313 [==============================] - 1s 2ms/step\n"
     ]
    }
   ],
   "execution_count": 27
  },
  {
   "metadata": {
    "ExecuteTime": {
     "end_time": "2024-11-01T06:18:03.413482Z",
     "start_time": "2024-11-01T06:18:03.289247Z"
    }
   },
   "cell_type": "code",
   "source": [
    "plt.imshow(X_test[40])\n",
    "print(f'Actual label: {np.argmax(y_test[40])}')\n",
    "print(f'Predicted label: {np.argmax(y_preds[40])}')\n",
    "plt.show()"
   ],
   "id": "47df0a380249c436",
   "outputs": [
    {
     "name": "stdout",
     "output_type": "stream",
     "text": [
      "Actual label: 1\n",
      "Predicted label: 1\n"
     ]
    },
    {
     "data": {
      "text/plain": [
       "<Figure size 640x480 with 1 Axes>"
      ],
      "image/png": "[encoded data removed]"
     },
     "metadata": {},
     "output_type": "display_data"
    }
   ],
   "execution_count": 28
  },
  {
   "metadata": {},
   "cell_type": "code",
   "outputs": [],
   "execution_count": null,
   "source": "",
   "id": "9f30125a40d04584"
  }
 ],
 "metadata": {
  "kernelspec": {
   "display_name": "Python 3",
   "language": "python",
   "name": "python3"
  },
  "language_info": {
   "codemirror_mode": {
    "name": "ipython",
    "version": 2
   },
   "file_extension": ".py",
   "mimetype": "text/x-python",
   "name": "python",
   "nbconvert_exporter": "python",
   "pygments_lexer": "ipython2",
   "version": "2.7.6"
  }
 },
 "nbformat": 4,
 "nbformat_minor": 5
}
